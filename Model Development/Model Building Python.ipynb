{
 "cells": [
  {
   "cell_type": "code",
   "execution_count": 1,
   "id": "15ac984f",
   "metadata": {},
   "outputs": [],
   "source": [
    "from sklearn.ensemble import GradientBoostingClassifier"
   ]
  },
  {
   "cell_type": "code",
   "execution_count": 5,
   "id": "b003416c",
   "metadata": {},
   "outputs": [],
   "source": [
    "import pandas as pd"
   ]
  },
  {
   "cell_type": "code",
   "execution_count": 6,
   "id": "5e64c450",
   "metadata": {},
   "outputs": [],
   "source": [
    "df_data = pd.read_csv(\"preprocessed_data.csv\")"
   ]
  },
  {
   "cell_type": "code",
   "execution_count": 44,
   "id": "43112e52",
   "metadata": {},
   "outputs": [],
   "source": [
    "pred_list = [ 'age', 'hypertension', 'heart_disease', 'avg_glucose_level', 'bmi', 'ever_marriedIndex', 'work_typeIndex', 'Residence_typeIndex', 'smoking_statusIndex']\n"
   ]
  },
  {
   "cell_type": "code",
   "execution_count": 46,
   "id": "bd7db0c9",
   "metadata": {},
   "outputs": [],
   "source": [
    "df_data_X = df_data[pred_list]\n",
    "df_data_Y = df_data[['stroke']]\n"
   ]
  },
  {
   "cell_type": "code",
   "execution_count": 47,
   "id": "fef706db",
   "metadata": {},
   "outputs": [],
   "source": [
    "from sklearn.model_selection import train_test_split\n",
    "\n",
    "X_train, X_test, y_train, y_test = train_test_split(df_data_X,df_data_Y, test_size=0.33, random_state=42)"
   ]
  },
  {
   "cell_type": "code",
   "execution_count": 48,
   "id": "1f6a219d",
   "metadata": {},
   "outputs": [
    {
     "name": "stderr",
     "output_type": "stream",
     "text": [
      "/Users/satwant/Documents/Anaconda3/anaconda3/lib/python3.8/site-packages/sklearn/utils/validation.py:63: DataConversionWarning: A column-vector y was passed when a 1d array was expected. Please change the shape of y to (n_samples, ), for example using ravel().\n",
      "  return f(*args, **kwargs)\n"
     ]
    }
   ],
   "source": [
    "reg = GradientBoostingClassifier(n_estimators=100, learning_rate=1.0,max_depth=5, random_state=0).fit(X_train, y_train)"
   ]
  },
  {
   "cell_type": "code",
   "execution_count": 49,
   "id": "5cbcd25c",
   "metadata": {},
   "outputs": [
    {
     "data": {
      "text/plain": [
       "0.9997078586035641"
      ]
     },
     "execution_count": 49,
     "metadata": {},
     "output_type": "execute_result"
    }
   ],
   "source": [
    "reg.score(X_train, y_train)"
   ]
  },
  {
   "cell_type": "code",
   "execution_count": 50,
   "id": "32ea31dc",
   "metadata": {},
   "outputs": [
    {
     "data": {
      "text/plain": [
       "0.919976289270895"
      ]
     },
     "execution_count": 50,
     "metadata": {},
     "output_type": "execute_result"
    }
   ],
   "source": [
    "reg.score(X_test, y_test)"
   ]
  },
  {
   "cell_type": "code",
   "execution_count": 51,
   "id": "603f5af0",
   "metadata": {},
   "outputs": [
    {
     "data": {
      "text/plain": [
       "array([0.23584052, 0.01147055, 0.04686966, 0.50825146, 0.14187926,\n",
       "       0.01415864, 0.02152572, 0.00212352, 0.01788068])"
      ]
     },
     "execution_count": 51,
     "metadata": {},
     "output_type": "execute_result"
    }
   ],
   "source": [
    "reg.feature_importances_"
   ]
  },
  {
   "cell_type": "code",
   "execution_count": 52,
   "id": "a47481ae",
   "metadata": {},
   "outputs": [],
   "source": [
    "import matplotlib.pyplot as plt\n",
    "import numpy as np\n",
    "from sklearn import datasets, ensemble\n",
    "from sklearn.inspection import permutation_importance\n",
    "from sklearn.metrics import mean_squared_error\n",
    "from sklearn.model_selection import train_test_split"
   ]
  },
  {
   "cell_type": "code",
   "execution_count": 53,
   "id": "2af03c1f",
   "metadata": {},
   "outputs": [
    {
     "data": {
      "text/plain": [
       "array([6, 1, 5, 2, 7, 4, 0, 3])"
      ]
     },
     "execution_count": 53,
     "metadata": {},
     "output_type": "execute_result"
    }
   ],
   "source": [
    "sorted_idx"
   ]
  },
  {
   "cell_type": "code",
   "execution_count": 54,
   "id": "4b64a83d",
   "metadata": {},
   "outputs": [
    {
     "data": {
      "image/png": "[encoded data removed]",
      "text/plain": [
       "<Figure size 864x432 with 2 Axes>"
      ]
     },
     "metadata": {
      "needs_background": "light"
     },
     "output_type": "display_data"
    }
   ],
   "source": [
    "feature_importance = reg.feature_importances_\n",
    "sorted_idx = np.argsort(feature_importance)\n",
    "pos = np.arange(sorted_idx.shape[0]) + 0.5\n",
    "fig = plt.figure(figsize=(12, 6))\n",
    "plt.subplot(1, 2, 1)\n",
    "plt.barh(pos, feature_importance[sorted_idx], align=\"center\")\n",
    "plt.yticks(pos, np.array(pred_list)[sorted_idx])\n",
    "plt.title(\"Feature Importance (Heart Stroke Prediction)\")\n",
    "\n",
    "result = permutation_importance(\n",
    "    reg, X_test, y_test, n_repeats=10, random_state=42, n_jobs=2\n",
    ")\n",
    "sorted_idx = result.importances_mean.argsort()\n",
    "plt.subplot(1, 2, 2)\n",
    "plt.boxplot(\n",
    "    result.importances[sorted_idx].T,\n",
    "    vert=False,\n",
    "    labels=np.array(pred_list)[sorted_idx],\n",
    ")\n",
    "plt.title(\"Permutation Importance (Test Set)\")\n",
    "fig.tight_layout()\n",
    "plt.show()"
   ]
  },
  {
   "cell_type": "code",
   "execution_count": 55,
   "id": "8b597601",
   "metadata": {},
   "outputs": [],
   "source": [
    "from sklearn import tree"
   ]
  },
  {
   "cell_type": "code",
   "execution_count": 70,
   "id": "f862ce43",
   "metadata": {},
   "outputs": [],
   "source": [
    "clf = tree.DecisionTreeClassifier(random_state=0,max_depth=3)"
   ]
  },
  {
   "cell_type": "code",
   "execution_count": 71,
   "id": "cf4df009",
   "metadata": {},
   "outputs": [],
   "source": [
    "clf = clf.fit(X_train, y_train)"
   ]
  },
  {
   "cell_type": "code",
   "execution_count": 74,
   "id": "add9b234",
   "metadata": {},
   "outputs": [
    {
     "data": {
      "image/svg+xml": [
       "<?xml version=\"1.0\" encoding=\"UTF-8\" standalone=\"no\"?>\n",
       "<!DOCTYPE svg PUBLIC \"-//W3C//DTD SVG 1.1//EN\"\n",
       " \"http://www.w3.org/Graphics/SVG/1.1/DTD/svg11.dtd\">\n",
       "<!-- Generated by graphviz version 2.49.2 (20211016.1639)\n",
       " -->\n",
       "<!-- Title: Tree Pages: 1 -->\n",
       "<svg width=\"997pt\" height=\"433pt\"\n",
       " viewBox=\"0.00 0.00 997.00 433.00\" xmlns=\"http://www.w3.org/2000/svg\" xmlns:xlink=\"http://www.w3.org/1999/xlink\">\n",
       "<g id=\"graph0\" class=\"graph\" transform=\"scale(1 1) rotate(0) translate(4 429)\">\n",
       "<title>Tree</title>\n",
       "<polygon fill=\"white\" stroke=\"transparent\" points=\"-4,4 -4,-429 993,-429 993,4 -4,4\"/>\n",
       "<!-- 0 -->\n",
       "<g id=\"node1\" class=\"node\">\n",
       "<title>0</title>\n",
       "<polygon fill=\"#e68742\" stroke=\"black\" points=\"525,-425 398,-425 398,-342 525,-342 525,-425\"/>\n",
       "<text text-anchor=\"middle\" x=\"461.5\" y=\"-409.8\" font-family=\"Times,serif\" font-size=\"14.00\">age &lt;= 67.5</text>\n",
       "<text text-anchor=\"middle\" x=\"461.5\" y=\"-394.8\" font-family=\"Times,serif\" font-size=\"14.00\">gini = 0.085</text>\n",
       "<text text-anchor=\"middle\" x=\"461.5\" y=\"-379.8\" font-family=\"Times,serif\" font-size=\"14.00\">samples = 3423</text>\n",
       "<text text-anchor=\"middle\" x=\"461.5\" y=\"-364.8\" font-family=\"Times,serif\" font-size=\"14.00\">value = [3270, 153]</text>\n",
       "<text text-anchor=\"middle\" x=\"461.5\" y=\"-349.8\" font-family=\"Times,serif\" font-size=\"14.00\">class = s</text>\n",
       "</g>\n",
       "<!-- 1 -->\n",
       "<g id=\"node2\" class=\"node\">\n",
       "<title>1</title>\n",
       "<polygon fill=\"#e6843d\" stroke=\"black\" points=\"440.5,-306 320.5,-306 320.5,-223 440.5,-223 440.5,-306\"/>\n",
       "<text text-anchor=\"middle\" x=\"380.5\" y=\"-290.8\" font-family=\"Times,serif\" font-size=\"14.00\">age &lt;= 53.5</text>\n",
       "<text text-anchor=\"middle\" x=\"380.5\" y=\"-275.8\" font-family=\"Times,serif\" font-size=\"14.00\">gini = 0.041</text>\n",
       "<text text-anchor=\"middle\" x=\"380.5\" y=\"-260.8\" font-family=\"Times,serif\" font-size=\"14.00\">samples = 2844</text>\n",
       "<text text-anchor=\"middle\" x=\"380.5\" y=\"-245.8\" font-family=\"Times,serif\" font-size=\"14.00\">value = [2784, 60]</text>\n",
       "<text text-anchor=\"middle\" x=\"380.5\" y=\"-230.8\" font-family=\"Times,serif\" font-size=\"14.00\">class = s</text>\n",
       "</g>\n",
       "<!-- 0&#45;&gt;1 -->\n",
       "<g id=\"edge1\" class=\"edge\">\n",
       "<title>0&#45;&gt;1</title>\n",
       "<path fill=\"none\" stroke=\"black\" d=\"M433.4,-341.91C427.24,-333.01 420.66,-323.51 414.31,-314.33\"/>\n",
       "<polygon fill=\"black\" stroke=\"black\" points=\"417.12,-312.25 408.55,-306.02 411.37,-316.24 417.12,-312.25\"/>\n",
       "<text text-anchor=\"middle\" x=\"404.08\" y=\"-326.92\" font-family=\"Times,serif\" font-size=\"14.00\">True</text>\n",
       "</g>\n",
       "<!-- 8 -->\n",
       "<g id=\"node9\" class=\"node\">\n",
       "<title>8</title>\n",
       "<polygon fill=\"#ea995f\" stroke=\"black\" points=\"635,-306 522,-306 522,-223 635,-223 635,-306\"/>\n",
       "<text text-anchor=\"middle\" x=\"578.5\" y=\"-290.8\" font-family=\"Times,serif\" font-size=\"14.00\">bmi &lt;= 7.5</text>\n",
       "<text text-anchor=\"middle\" x=\"578.5\" y=\"-275.8\" font-family=\"Times,serif\" font-size=\"14.00\">gini = 0.27</text>\n",
       "<text text-anchor=\"middle\" x=\"578.5\" y=\"-260.8\" font-family=\"Times,serif\" font-size=\"14.00\">samples = 579</text>\n",
       "<text text-anchor=\"middle\" x=\"578.5\" y=\"-245.8\" font-family=\"Times,serif\" font-size=\"14.00\">value = [486, 93]</text>\n",
       "<text text-anchor=\"middle\" x=\"578.5\" y=\"-230.8\" font-family=\"Times,serif\" font-size=\"14.00\">class = s</text>\n",
       "</g>\n",
       "<!-- 0&#45;&gt;8 -->\n",
       "<g id=\"edge8\" class=\"edge\">\n",
       "<title>0&#45;&gt;8</title>\n",
       "<path fill=\"none\" stroke=\"black\" d=\"M502.09,-341.91C511.35,-332.65 521.27,-322.73 530.79,-313.21\"/>\n",
       "<polygon fill=\"black\" stroke=\"black\" points=\"533.38,-315.57 537.98,-306.02 528.43,-310.62 533.38,-315.57\"/>\n",
       "<text text-anchor=\"middle\" x=\"537.98\" y=\"-327.32\" font-family=\"Times,serif\" font-size=\"14.00\">False</text>\n",
       "</g>\n",
       "<!-- 2 -->\n",
       "<g id=\"node3\" class=\"node\">\n",
       "<title>2</title>\n",
       "<polygon fill=\"#e5823b\" stroke=\"black\" points=\"247.5,-187 127.5,-187 127.5,-104 247.5,-104 247.5,-187\"/>\n",
       "<text text-anchor=\"middle\" x=\"187.5\" y=\"-171.8\" font-family=\"Times,serif\" font-size=\"14.00\">age &lt;= 47.5</text>\n",
       "<text text-anchor=\"middle\" x=\"187.5\" y=\"-156.8\" font-family=\"Times,serif\" font-size=\"14.00\">gini = 0.016</text>\n",
       "<text text-anchor=\"middle\" x=\"187.5\" y=\"-141.8\" font-family=\"Times,serif\" font-size=\"14.00\">samples = 2190</text>\n",
       "<text text-anchor=\"middle\" x=\"187.5\" y=\"-126.8\" font-family=\"Times,serif\" font-size=\"14.00\">value = [2172, 18]</text>\n",
       "<text text-anchor=\"middle\" x=\"187.5\" y=\"-111.8\" font-family=\"Times,serif\" font-size=\"14.00\">class = s</text>\n",
       "</g>\n",
       "<!-- 1&#45;&gt;2 -->\n",
       "<g id=\"edge2\" class=\"edge\">\n",
       "<title>1&#45;&gt;2</title>\n",
       "<path fill=\"none\" stroke=\"black\" d=\"M320.49,-227.12C300.26,-214.85 277.51,-201.06 256.63,-188.41\"/>\n",
       "<polygon fill=\"black\" stroke=\"black\" points=\"258.17,-185.25 247.8,-183.06 254.54,-191.23 258.17,-185.25\"/>\n",
       "</g>\n",
       "<!-- 5 -->\n",
       "<g id=\"node6\" class=\"node\">\n",
       "<title>5</title>\n",
       "<polygon fill=\"#e78a47\" stroke=\"black\" points=\"437,-187 324,-187 324,-104 437,-104 437,-187\"/>\n",
       "<text text-anchor=\"middle\" x=\"380.5\" y=\"-171.8\" font-family=\"Times,serif\" font-size=\"14.00\">bmi &lt;= 7.05</text>\n",
       "<text text-anchor=\"middle\" x=\"380.5\" y=\"-156.8\" font-family=\"Times,serif\" font-size=\"14.00\">gini = 0.12</text>\n",
       "<text text-anchor=\"middle\" x=\"380.5\" y=\"-141.8\" font-family=\"Times,serif\" font-size=\"14.00\">samples = 654</text>\n",
       "<text text-anchor=\"middle\" x=\"380.5\" y=\"-126.8\" font-family=\"Times,serif\" font-size=\"14.00\">value = [612, 42]</text>\n",
       "<text text-anchor=\"middle\" x=\"380.5\" y=\"-111.8\" font-family=\"Times,serif\" font-size=\"14.00\">class = s</text>\n",
       "</g>\n",
       "<!-- 1&#45;&gt;5 -->\n",
       "<g id=\"edge5\" class=\"edge\">\n",
       "<title>1&#45;&gt;5</title>\n",
       "<path fill=\"none\" stroke=\"black\" d=\"M380.5,-222.91C380.5,-214.65 380.5,-205.86 380.5,-197.3\"/>\n",
       "<polygon fill=\"black\" stroke=\"black\" points=\"384,-197.02 380.5,-187.02 377,-197.02 384,-197.02\"/>\n",
       "</g>\n",
       "<!-- 3 -->\n",
       "<g id=\"node4\" class=\"node\">\n",
       "<title>3</title>\n",
       "<polygon fill=\"#e5823a\" stroke=\"black\" points=\"113,-68 0,-68 0,0 113,0 113,-68\"/>\n",
       "<text text-anchor=\"middle\" x=\"56.5\" y=\"-52.8\" font-family=\"Times,serif\" font-size=\"14.00\">gini = 0.009</text>\n",
       "<text text-anchor=\"middle\" x=\"56.5\" y=\"-37.8\" font-family=\"Times,serif\" font-size=\"14.00\">samples = 1857</text>\n",
       "<text text-anchor=\"middle\" x=\"56.5\" y=\"-22.8\" font-family=\"Times,serif\" font-size=\"14.00\">value = [1849, 8]</text>\n",
       "<text text-anchor=\"middle\" x=\"56.5\" y=\"-7.8\" font-family=\"Times,serif\" font-size=\"14.00\">class = s</text>\n",
       "</g>\n",
       "<!-- 2&#45;&gt;3 -->\n",
       "<g id=\"edge3\" class=\"edge\">\n",
       "<title>2&#45;&gt;3</title>\n",
       "<path fill=\"none\" stroke=\"black\" d=\"M138.72,-103.73C127.37,-94.24 115.31,-84.16 104.01,-74.72\"/>\n",
       "<polygon fill=\"black\" stroke=\"black\" points=\"106.26,-72.03 96.34,-68.3 101.77,-77.4 106.26,-72.03\"/>\n",
       "</g>\n",
       "<!-- 4 -->\n",
       "<g id=\"node5\" class=\"node\">\n",
       "<title>4</title>\n",
       "<polygon fill=\"#e6853f\" stroke=\"black\" points=\"244,-68 131,-68 131,0 244,0 244,-68\"/>\n",
       "<text text-anchor=\"middle\" x=\"187.5\" y=\"-52.8\" font-family=\"Times,serif\" font-size=\"14.00\">gini = 0.058</text>\n",
       "<text text-anchor=\"middle\" x=\"187.5\" y=\"-37.8\" font-family=\"Times,serif\" font-size=\"14.00\">samples = 333</text>\n",
       "<text text-anchor=\"middle\" x=\"187.5\" y=\"-22.8\" font-family=\"Times,serif\" font-size=\"14.00\">value = [323, 10]</text>\n",
       "<text text-anchor=\"middle\" x=\"187.5\" y=\"-7.8\" font-family=\"Times,serif\" font-size=\"14.00\">class = s</text>\n",
       "</g>\n",
       "<!-- 2&#45;&gt;4 -->\n",
       "<g id=\"edge4\" class=\"edge\">\n",
       "<title>2&#45;&gt;4</title>\n",
       "<path fill=\"none\" stroke=\"black\" d=\"M187.5,-103.73C187.5,-95.52 187.5,-86.86 187.5,-78.56\"/>\n",
       "<polygon fill=\"black\" stroke=\"black\" points=\"191,-78.3 187.5,-68.3 184,-78.3 191,-78.3\"/>\n",
       "</g>\n",
       "<!-- 6 -->\n",
       "<g id=\"node7\" class=\"node\">\n",
       "<title>6</title>\n",
       "<polygon fill=\"#f0b58b\" stroke=\"black\" points=\"361,-68 262,-68 262,0 361,0 361,-68\"/>\n",
       "<text text-anchor=\"middle\" x=\"311.5\" y=\"-52.8\" font-family=\"Times,serif\" font-size=\"14.00\">gini = 0.413</text>\n",
       "<text text-anchor=\"middle\" x=\"311.5\" y=\"-37.8\" font-family=\"Times,serif\" font-size=\"14.00\">samples = 24</text>\n",
       "<text text-anchor=\"middle\" x=\"311.5\" y=\"-22.8\" font-family=\"Times,serif\" font-size=\"14.00\">value = [17, 7]</text>\n",
       "<text text-anchor=\"middle\" x=\"311.5\" y=\"-7.8\" font-family=\"Times,serif\" font-size=\"14.00\">class = s</text>\n",
       "</g>\n",
       "<!-- 5&#45;&gt;6 -->\n",
       "<g id=\"edge6\" class=\"edge\">\n",
       "<title>5&#45;&gt;6</title>\n",
       "<path fill=\"none\" stroke=\"black\" d=\"M354.81,-103.73C349.29,-94.97 343.45,-85.7 337.91,-76.91\"/>\n",
       "<polygon fill=\"black\" stroke=\"black\" points=\"340.78,-74.89 332.48,-68.3 334.85,-78.63 340.78,-74.89\"/>\n",
       "</g>\n",
       "<!-- 7 -->\n",
       "<g id=\"node8\" class=\"node\">\n",
       "<title>7</title>\n",
       "<polygon fill=\"#e78845\" stroke=\"black\" points=\"492,-68 379,-68 379,0 492,0 492,-68\"/>\n",
       "<text text-anchor=\"middle\" x=\"435.5\" y=\"-52.8\" font-family=\"Times,serif\" font-size=\"14.00\">gini = 0.105</text>\n",
       "<text text-anchor=\"middle\" x=\"435.5\" y=\"-37.8\" font-family=\"Times,serif\" font-size=\"14.00\">samples = 630</text>\n",
       "<text text-anchor=\"middle\" x=\"435.5\" y=\"-22.8\" font-family=\"Times,serif\" font-size=\"14.00\">value = [595, 35]</text>\n",
       "<text text-anchor=\"middle\" x=\"435.5\" y=\"-7.8\" font-family=\"Times,serif\" font-size=\"14.00\">class = s</text>\n",
       "</g>\n",
       "<!-- 5&#45;&gt;7 -->\n",
       "<g id=\"edge7\" class=\"edge\">\n",
       "<title>5&#45;&gt;7</title>\n",
       "<path fill=\"none\" stroke=\"black\" d=\"M400.98,-103.73C405.29,-95.15 409.84,-86.09 414.18,-77.46\"/>\n",
       "<polygon fill=\"black\" stroke=\"black\" points=\"417.41,-78.81 418.77,-68.3 411.16,-75.66 417.41,-78.81\"/>\n",
       "</g>\n",
       "<!-- 9 -->\n",
       "<g id=\"node10\" class=\"node\">\n",
       "<title>9</title>\n",
       "<polygon fill=\"#f2c2a0\" stroke=\"black\" points=\"666,-187 491,-187 491,-104 666,-104 666,-187\"/>\n",
       "<text text-anchor=\"middle\" x=\"578.5\" y=\"-171.8\" font-family=\"Times,serif\" font-size=\"14.00\">avg_glucose_level &lt;= 64.08</text>\n",
       "<text text-anchor=\"middle\" x=\"578.5\" y=\"-156.8\" font-family=\"Times,serif\" font-size=\"14.00\">gini = 0.45</text>\n",
       "<text text-anchor=\"middle\" x=\"578.5\" y=\"-141.8\" font-family=\"Times,serif\" font-size=\"14.00\">samples = 41</text>\n",
       "<text text-anchor=\"middle\" x=\"578.5\" y=\"-126.8\" font-family=\"Times,serif\" font-size=\"14.00\">value = [27, 14]</text>\n",
       "<text text-anchor=\"middle\" x=\"578.5\" y=\"-111.8\" font-family=\"Times,serif\" font-size=\"14.00\">class = s</text>\n",
       "</g>\n",
       "<!-- 8&#45;&gt;9 -->\n",
       "<g id=\"edge9\" class=\"edge\">\n",
       "<title>8&#45;&gt;9</title>\n",
       "<path fill=\"none\" stroke=\"black\" d=\"M578.5,-222.91C578.5,-214.65 578.5,-205.86 578.5,-197.3\"/>\n",
       "<polygon fill=\"black\" stroke=\"black\" points=\"582,-197.02 578.5,-187.02 575,-197.02 582,-197.02\"/>\n",
       "</g>\n",
       "<!-- 12 -->\n",
       "<g id=\"node13\" class=\"node\">\n",
       "<title>12</title>\n",
       "<polygon fill=\"#e9975b\" stroke=\"black\" points=\"896,-187 707,-187 707,-104 896,-104 896,-187\"/>\n",
       "<text text-anchor=\"middle\" x=\"801.5\" y=\"-171.8\" font-family=\"Times,serif\" font-size=\"14.00\">avg_glucose_level &lt;= 129.975</text>\n",
       "<text text-anchor=\"middle\" x=\"801.5\" y=\"-156.8\" font-family=\"Times,serif\" font-size=\"14.00\">gini = 0.251</text>\n",
       "<text text-anchor=\"middle\" x=\"801.5\" y=\"-141.8\" font-family=\"Times,serif\" font-size=\"14.00\">samples = 538</text>\n",
       "<text text-anchor=\"middle\" x=\"801.5\" y=\"-126.8\" font-family=\"Times,serif\" font-size=\"14.00\">value = [459, 79]</text>\n",
       "<text text-anchor=\"middle\" x=\"801.5\" y=\"-111.8\" font-family=\"Times,serif\" font-size=\"14.00\">class = s</text>\n",
       "</g>\n",
       "<!-- 8&#45;&gt;12 -->\n",
       "<g id=\"edge12\" class=\"edge\">\n",
       "<title>8&#45;&gt;12</title>\n",
       "<path fill=\"none\" stroke=\"black\" d=\"M635.06,-233.82C659.29,-221.11 688.13,-205.98 714.95,-191.91\"/>\n",
       "<polygon fill=\"black\" stroke=\"black\" points=\"716.73,-194.93 723.95,-187.19 713.47,-188.73 716.73,-194.93\"/>\n",
       "</g>\n",
       "<!-- 10 -->\n",
       "<g id=\"node11\" class=\"node\">\n",
       "<title>10</title>\n",
       "<polygon fill=\"#399de5\" stroke=\"black\" points=\"602.5,-68 510.5,-68 510.5,0 602.5,0 602.5,-68\"/>\n",
       "<text text-anchor=\"middle\" x=\"556.5\" y=\"-52.8\" font-family=\"Times,serif\" font-size=\"14.00\">gini = 0.0</text>\n",
       "<text text-anchor=\"middle\" x=\"556.5\" y=\"-37.8\" font-family=\"Times,serif\" font-size=\"14.00\">samples = 3</text>\n",
       "<text text-anchor=\"middle\" x=\"556.5\" y=\"-22.8\" font-family=\"Times,serif\" font-size=\"14.00\">value = [0, 3]</text>\n",
       "<text text-anchor=\"middle\" x=\"556.5\" y=\"-7.8\" font-family=\"Times,serif\" font-size=\"14.00\">class = t</text>\n",
       "</g>\n",
       "<!-- 9&#45;&gt;10 -->\n",
       "<g id=\"edge10\" class=\"edge\">\n",
       "<title>9&#45;&gt;10</title>\n",
       "<path fill=\"none\" stroke=\"black\" d=\"M570.31,-103.73C568.64,-95.43 566.88,-86.67 565.2,-78.28\"/>\n",
       "<polygon fill=\"black\" stroke=\"black\" points=\"568.59,-77.41 563.19,-68.3 561.73,-78.79 568.59,-77.41\"/>\n",
       "</g>\n",
       "<!-- 11 -->\n",
       "<g id=\"node12\" class=\"node\">\n",
       "<title>11</title>\n",
       "<polygon fill=\"#f0b48a\" stroke=\"black\" points=\"726.5,-68 620.5,-68 620.5,0 726.5,0 726.5,-68\"/>\n",
       "<text text-anchor=\"middle\" x=\"673.5\" y=\"-52.8\" font-family=\"Times,serif\" font-size=\"14.00\">gini = 0.411</text>\n",
       "<text text-anchor=\"middle\" x=\"673.5\" y=\"-37.8\" font-family=\"Times,serif\" font-size=\"14.00\">samples = 38</text>\n",
       "<text text-anchor=\"middle\" x=\"673.5\" y=\"-22.8\" font-family=\"Times,serif\" font-size=\"14.00\">value = [27, 11]</text>\n",
       "<text text-anchor=\"middle\" x=\"673.5\" y=\"-7.8\" font-family=\"Times,serif\" font-size=\"14.00\">class = s</text>\n",
       "</g>\n",
       "<!-- 9&#45;&gt;11 -->\n",
       "<g id=\"edge11\" class=\"edge\">\n",
       "<title>9&#45;&gt;11</title>\n",
       "<path fill=\"none\" stroke=\"black\" d=\"M613.87,-103.73C621.71,-94.7 630.01,-85.12 637.86,-76.08\"/>\n",
       "<polygon fill=\"black\" stroke=\"black\" points=\"640.7,-78.15 644.61,-68.3 635.41,-73.56 640.7,-78.15\"/>\n",
       "</g>\n",
       "<!-- 13 -->\n",
       "<g id=\"node14\" class=\"node\">\n",
       "<title>13</title>\n",
       "<polygon fill=\"#e99254\" stroke=\"black\" points=\"858,-68 745,-68 745,0 858,0 858,-68\"/>\n",
       "<text text-anchor=\"middle\" x=\"801.5\" y=\"-52.8\" font-family=\"Times,serif\" font-size=\"14.00\">gini = 0.212</text>\n",
       "<text text-anchor=\"middle\" x=\"801.5\" y=\"-37.8\" font-family=\"Times,serif\" font-size=\"14.00\">samples = 366</text>\n",
       "<text text-anchor=\"middle\" x=\"801.5\" y=\"-22.8\" font-family=\"Times,serif\" font-size=\"14.00\">value = [322, 44]</text>\n",
       "<text text-anchor=\"middle\" x=\"801.5\" y=\"-7.8\" font-family=\"Times,serif\" font-size=\"14.00\">class = s</text>\n",
       "</g>\n",
       "<!-- 12&#45;&gt;13 -->\n",
       "<g id=\"edge13\" class=\"edge\">\n",
       "<title>12&#45;&gt;13</title>\n",
       "<path fill=\"none\" stroke=\"black\" d=\"M801.5,-103.73C801.5,-95.52 801.5,-86.86 801.5,-78.56\"/>\n",
       "<polygon fill=\"black\" stroke=\"black\" points=\"805,-78.3 801.5,-68.3 798,-78.3 805,-78.3\"/>\n",
       "</g>\n",
       "<!-- 14 -->\n",
       "<g id=\"node15\" class=\"node\">\n",
       "<title>14</title>\n",
       "<polygon fill=\"#eca16c\" stroke=\"black\" points=\"989,-68 876,-68 876,0 989,0 989,-68\"/>\n",
       "<text text-anchor=\"middle\" x=\"932.5\" y=\"-52.8\" font-family=\"Times,serif\" font-size=\"14.00\">gini = 0.324</text>\n",
       "<text text-anchor=\"middle\" x=\"932.5\" y=\"-37.8\" font-family=\"Times,serif\" font-size=\"14.00\">samples = 172</text>\n",
       "<text text-anchor=\"middle\" x=\"932.5\" y=\"-22.8\" font-family=\"Times,serif\" font-size=\"14.00\">value = [137, 35]</text>\n",
       "<text text-anchor=\"middle\" x=\"932.5\" y=\"-7.8\" font-family=\"Times,serif\" font-size=\"14.00\">class = s</text>\n",
       "</g>\n",
       "<!-- 12&#45;&gt;14 -->\n",
       "<g id=\"edge14\" class=\"edge\">\n",
       "<title>12&#45;&gt;14</title>\n",
       "<path fill=\"none\" stroke=\"black\" d=\"M850.28,-103.73C861.63,-94.24 873.69,-84.16 884.99,-74.72\"/>\n",
       "<polygon fill=\"black\" stroke=\"black\" points=\"887.23,-77.4 892.66,-68.3 882.74,-72.03 887.23,-77.4\"/>\n",
       "</g>\n",
       "</g>\n",
       "</svg>\n"
      ],
      "text/plain": [
       "<graphviz.files.Source at 0x7ff6b836f790>"
      ]
     },
     "execution_count": 74,
     "metadata": {},
     "output_type": "execute_result"
    }
   ],
   "source": [
    "import graphviz\n",
    "# DOT data\n",
    "dot_data = tree.export_graphviz(clf, out_file=None, \n",
    "                                feature_names=pred_list,  \n",
    "                                class_names='stroke',\n",
    "                                filled=True)\n",
    "\n",
    "# Draw graph\n",
    "graph = graphviz.Source(dot_data, format=\"png\") \n",
    "graph"
   ]
  },
  {
   "cell_type": "code",
   "execution_count": 75,
   "id": "2550dd22",
   "metadata": {},
   "outputs": [
    {
     "data": {
      "text/plain": [
       "'decision_tree_graphivz.png'"
      ]
     },
     "execution_count": 75,
     "metadata": {},
     "output_type": "execute_result"
    }
   ],
   "source": [
    "graph.render(\"decision_tree_graphivz\")"
   ]
  }
 ],
 "metadata": {
  "kernelspec": {
   "display_name": "Python 3",
   "language": "python",
   "name": "python3"
  },
  "language_info": {
   "codemirror_mode": {
    "name": "ipython",
    "version": 3
   },
   "file_extension": ".py",
   "mimetype": "text/x-python",
   "name": "python",
   "nbconvert_exporter": "python",
   "pygments_lexer": "ipython3",
   "version": "3.8.8"
  }
 },
 "nbformat": 4,
 "nbformat_minor": 5
}
