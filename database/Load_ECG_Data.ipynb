{
 "cells": [
  {
   "cell_type": "code",
   "execution_count": 1,
   "id": "fd7d88c0",
   "metadata": {},
   "outputs": [],
   "source": [
    "import csv\n",
    "import json\n",
    "import time\n",
    "import os\n",
    "\n",
    "import boto3\n",
    "import botocore.session\n",
    "import logging\n",
    "from botocore.exceptions import ClientError"
   ]
  },
  {
   "cell_type": "code",
   "execution_count": 2,
   "id": "545742a8",
   "metadata": {},
   "outputs": [],
   "source": [
    "data_folder = \"data\\ecg_data\"\n",
    "s3 = boto3.client('s3',region_name='us-east-2')\n",
    "bucket = 'caaas'"
   ]
  },
  {
   "cell_type": "code",
   "execution_count": 3,
   "id": "177e0fa3",
   "metadata": {},
   "outputs": [],
   "source": [
    "def upload_file(file_name, bucket, object_name=None):\n",
    "    \"\"\"Upload a file to an S3 bucket\n",
    "\n",
    "    :param file_name: File to upload\n",
    "    :param bucket: Bucket to upload to\n",
    "    :param object_name: S3 object name. If not specified then file_name is used\n",
    "    :return: True if file was uploaded, else False\n",
    "    \"\"\"\n",
    "\n",
    "    # If S3 object_name was not specified, use file_name\n",
    "    if object_name is None:\n",
    "        object_name = os.path.basename(file_name)\n",
    "\n",
    "    # Upload the file\n",
    "    s3_client = boto3.client('s3')\n",
    "    try:\n",
    "        response = s3_client.upload_file(file_name, bucket, object_name)\n",
    "    except ClientError as e:\n",
    "        logging.error(e)\n",
    "        return False\n",
    "    return True"
   ]
  },
  {
   "cell_type": "code",
   "execution_count": 4,
   "id": "bd861256",
   "metadata": {},
   "outputs": [],
   "source": [
    "def upload_S3(data_folder):\n",
    "    for dirname, dirnames, filenames in os.walk(data_folder):\n",
    "        for subdirname in dirnames:\n",
    "            path = os.path.join(dirname, subdirname)\n",
    "            for file in os.listdir(path):\n",
    "                obj_name=subdirname+\"/\"+file\n",
    "                full_path = os.path.join(path,file)\n",
    "                upload_file(full_path, bucket,obj_name)"
   ]
  },
  {
   "cell_type": "code",
   "execution_count": null,
   "id": "169ffcd5",
   "metadata": {},
   "outputs": [],
   "source": [
    "upload_S3(data_folder)"
   ]
  }
 ],
 "metadata": {
  "kernelspec": {
   "display_name": "Python 3 (ipykernel)",
   "language": "python",
   "name": "python3"
  },
  "language_info": {
   "codemirror_mode": {
    "name": "ipython",
    "version": 3
   },
   "file_extension": ".py",
   "mimetype": "text/x-python",
   "name": "python",
   "nbconvert_exporter": "python",
   "pygments_lexer": "ipython3",
   "version": "3.8.11"
  }
 },
 "nbformat": 4,
 "nbformat_minor": 5
}
