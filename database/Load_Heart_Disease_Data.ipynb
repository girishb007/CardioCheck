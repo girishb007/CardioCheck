{
 "cells": [
  {
   "cell_type": "code",
   "execution_count": 1,
   "id": "fd7d88c0",
   "metadata": {},
   "outputs": [],
   "source": [
    "import csv\n",
    "import json\n",
    "import time\n",
    "\n",
    "import boto3\n",
    "import botocore.session\n",
    "from boto3.dynamodb.conditions import Key, Attr"
   ]
  },
  {
   "cell_type": "code",
   "execution_count": 2,
   "id": "545742a8",
   "metadata": {},
   "outputs": [],
   "source": [
    "file_path = \"data\"\n",
    "file_name = 'healthcare-dataset-stroke-data.csv'\n",
    "table_name=\"heart_disease\"\n",
    "columns=['id','gender','age','hypertension','heart_disease','ever_married',\\\n",
    "         'work_type','Residence_type','avg_glucose_level','bmi','smoking_status','stroke']\n",
    "\n",
    "dynamodb = boto3.resource('dynamodb',region_name='us-east-2')"
   ]
  },
  {
   "cell_type": "code",
   "execution_count": 3,
   "id": "60dbcd0b",
   "metadata": {},
   "outputs": [],
   "source": [
    "def create_heart_disease_table(table_name):\n",
    "    try:\n",
    "        resp = dynamodb.create_table(\n",
    "            TableName=table_name,\n",
    "            KeySchema=[\n",
    "                {\n",
    "                    'AttributeName': 'id',\n",
    "                    'KeyType': 'HASH'  # Partition key\n",
    "                }\n",
    "            ],\n",
    "            AttributeDefinitions=[\n",
    "                {'AttributeName': 'id','AttributeType': 'S'}\n",
    "\n",
    "            ],\n",
    "            ProvisionedThroughput={\n",
    "                'ReadCapacityUnits': 10,\n",
    "                'WriteCapacityUnits': 10\n",
    "            }\n",
    "        )\n",
    "    except:        \n",
    "        table = dynamodb.Table(table_name)\n",
    "        table.delete()\n",
    "        time.sleep(5)\n",
    "        create_heart_disease_table(table_name)\n"
   ]
  },
  {
   "cell_type": "code",
   "execution_count": 7,
   "id": "0d1d3b79",
   "metadata": {},
   "outputs": [],
   "source": [
    "def get_json_data(file_path,file_name):\n",
    "    with open(file_path+\"/\"+file_name) as f:\n",
    "        reader = csv.DictReader(f)\n",
    "        rows = list(reader)        \n",
    "    return rows"
   ]
  },
  {
   "cell_type": "code",
   "execution_count": 8,
   "id": "2014b67a",
   "metadata": {},
   "outputs": [],
   "source": [
    "def put_heart_data(table,data):\n",
    "    with table.batch_writer() as batch:\n",
    "        with table.batch_writer() as writer:\n",
    "            for item in data:\n",
    "                writer.put_item(Item=item)"
   ]
  },
  {
   "cell_type": "code",
   "execution_count": 9,
   "id": "780cf386",
   "metadata": {},
   "outputs": [],
   "source": [
    "create_heart_disease_table(table_name)\n",
    "table = dynamodb.Table(table_name)\n",
    "heart_disease_data = get_json_data(file_path,file_name)\n",
    "time.sleep(5) \n",
    "put_heart_data(table,heart_disease_data)\n"
   ]
  },
  {
   "cell_type": "code",
   "execution_count": null,
   "id": "fdd03f2d",
   "metadata": {},
   "outputs": [],
   "source": []
  }
 ],
 "metadata": {
  "kernelspec": {
   "display_name": "Python 3 (ipykernel)",
   "language": "python",
   "name": "python3"
  },
  "language_info": {
   "codemirror_mode": {
    "name": "ipython",
    "version": 3
   },
   "file_extension": ".py",
   "mimetype": "text/x-python",
   "name": "python",
   "nbconvert_exporter": "python",
   "pygments_lexer": "ipython3",
   "version": "3.8.11"
  }
 },
 "nbformat": 4,
 "nbformat_minor": 5
}
